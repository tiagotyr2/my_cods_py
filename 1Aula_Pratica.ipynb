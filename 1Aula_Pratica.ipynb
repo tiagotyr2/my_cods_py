{
  "nbformat": 4,
  "nbformat_minor": 0,
  "metadata": {
    "colab": {
      "provenance": [],
      "toc_visible": true,
      "authorship_tag": "ABX9TyOG9HBou1rUE6bB9Rpaumpm",
      "include_colab_link": true
    },
    "kernelspec": {
      "name": "python3",
      "display_name": "Python 3"
    },
    "language_info": {
      "name": "python"
    }
  },
  "cells": [
    {
      "cell_type": "markdown",
      "metadata": {
        "id": "view-in-github",
        "colab_type": "text"
      },
      "source": [
        "<a href=\"https://colab.research.google.com/github/tiagotyr2/my_cods_py/blob/main/1Aula_Pratica.ipynb\" target=\"_parent\"><img src=\"https://colab.research.google.com/assets/colab-badge.svg\" alt=\"Open In Colab\"/></a>"
      ]
    },
    {
      "cell_type": "code",
      "source": [
        "print('Alunos - PLP Unifavip 2022.2')"
      ],
      "metadata": {
        "colab": {
          "base_uri": "https://localhost:8080/"
        },
        "id": "PsPw9m4kr072",
        "outputId": "414e4aee-7711-4053-d466-646148562f2d"
      },
      "execution_count": 18,
      "outputs": [
        {
          "output_type": "stream",
          "name": "stdout",
          "text": [
            "Alunos - PLP Unifavip 2022.2\n"
          ]
        }
      ]
    },
    {
      "cell_type": "code",
      "source": [
        "numero1 = input('Informe um Numero:')\n",
        "\n",
        "print('O numero informado foi:' + numero1)"
      ],
      "metadata": {
        "colab": {
          "base_uri": "https://localhost:8080/"
        },
        "id": "meE6yKusr90j",
        "outputId": "1a765c11-11d2-4b62-8778-435b0cc5c15c"
      },
      "execution_count": 33,
      "outputs": [
        {
          "output_type": "stream",
          "name": "stdout",
          "text": [
            "Informe um Numero:5\n",
            "O numero informado foi:5\n"
          ]
        }
      ]
    },
    {
      "cell_type": "code",
      "execution_count": 48,
      "metadata": {
        "colab": {
          "base_uri": "https://localhost:8080/"
        },
        "id": "X-LuZr-1j_dq",
        "outputId": "5bfb4a67-a178-4408-c110-f393fddaa3fc"
      },
      "outputs": [
        {
          "output_type": "stream",
          "name": "stdout",
          "text": [
            "Informe o numero 1:4\n",
            "Informe o numero 2:6\n",
            "O resultado foi: 10.0\n"
          ]
        }
      ],
      "source": [
        "numero1 = float(input('Informe o numero 1:'))\n",
        "numero2 = float(input('Informe o numero 2:'))\n",
        "\n",
        "resultado1 = (numero1 + numero2)\n",
        "\n",
        "print('O resultado foi:', resultado1)\n"
      ]
    },
    {
      "cell_type": "code",
      "source": [
        "n1 = float(input('Informe a Nota 1:'))\n",
        "n2 = float(input('Informe a Nota 2:'))\n",
        "n3 = float(input('Informe a Nota 3:'))\n",
        "n4 = float(input('Informe a Nota 4:'))\n",
        "\n",
        "m1 = (n1 + n2 + n3 + n4) /4\n",
        "\n",
        "print('A Media foi:', m1)\n"
      ],
      "metadata": {
        "colab": {
          "base_uri": "https://localhost:8080/"
        },
        "id": "fihDSr-xxlU2",
        "outputId": "4d6702d3-0447-427a-dbbe-2d7e96011a86"
      },
      "execution_count": 49,
      "outputs": [
        {
          "output_type": "stream",
          "name": "stdout",
          "text": [
            "Informe a Nota 1:7\n",
            "Informe a Nota 2:8\n",
            "Informe a Nota 3:6\n",
            "Informe a Nota 4:9\n",
            "A Media foi: 7.5\n"
          ]
        }
      ]
    },
    {
      "cell_type": "code",
      "source": [
        "raio_do_circulo = float(input('Informe o raio do circulo:'))\n",
        "\n",
        "area = (raio_do_circulo * raio_do_circulo) * 3.14\n",
        "\n",
        "print('Resultado:', area)"
      ],
      "metadata": {
        "colab": {
          "base_uri": "https://localhost:8080/"
        },
        "id": "wVe-kK_U3mGx",
        "outputId": "7b650a91-c372-4352-a615-f18fdc0d28c2"
      },
      "execution_count": 60,
      "outputs": [
        {
          "output_type": "stream",
          "name": "stdout",
          "text": [
            "Informe o raio do circulo:8\n",
            "Resultado: 200.96\n"
          ]
        }
      ]
    },
    {
      "cell_type": "code",
      "source": [
        "lado_do_quadrado = float(input('Informe o valor do lado do quadrado:'))\n",
        "\n",
        "area = lado_do_quadrado * lado_do_quadrado\n",
        "#area = lado_do_quadrado**2\n",
        "\n",
        "resultado = area * 2\n",
        "\n",
        "print('Area do Quadrado:', area)\n",
        "print('O Dobro da Area do Quadrado:', resultado)"
      ],
      "metadata": {
        "colab": {
          "base_uri": "https://localhost:8080/"
        },
        "id": "I5Hw3o5S6a8s",
        "outputId": "6c956142-8c0f-4d11-d491-282e93951bb1"
      },
      "execution_count": 67,
      "outputs": [
        {
          "output_type": "stream",
          "name": "stdout",
          "text": [
            "Informe o valor do lado do quadrado:3\n",
            "Area do Quadrado: 9.0\n",
            "O Dobro da Area do Quadrado: 18.0\n"
          ]
        }
      ]
    },
    {
      "cell_type": "code",
      "source": [
        "valor = float(input('Quanto você ganha por hora trabalhada?'))\n",
        "hora = float(input('Quantas horas você trabalhou no mes de fevereiro?:'))\n",
        "\n",
        "resultado = valor * hora\n",
        "\n",
        "print('Você ganhou', resultado ,'reais no mês de fevereiro!')\n"
      ],
      "metadata": {
        "colab": {
          "base_uri": "https://localhost:8080/"
        },
        "id": "dquOSsU_7j9g",
        "outputId": "747bac3e-dc7f-4c1c-8023-d5fcd08e19d7"
      },
      "execution_count": 65,
      "outputs": [
        {
          "output_type": "stream",
          "name": "stdout",
          "text": [
            "Quanto você ganha por hora trabalhada?5.62\n",
            "Quantas horas você trabalhou no mes de fevereiro?:220\n",
            "Você ganhou 1236.4 reais no mês de fevereiro!\n"
          ]
        }
      ]
    }
  ]
}